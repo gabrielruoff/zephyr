{
 "cells": [
  {
   "cell_type": "code",
   "execution_count": 8,
   "metadata": {
    "collapsed": true,
    "pycharm": {
     "name": "#%%\n"
    }
   },
   "outputs": [],
   "source": [
    "import subprocess\n",
    "import manage"
   ]
  },
  {
   "cell_type": "code",
   "execution_count": null,
   "outputs": [
    {
     "name": "stderr",
     "output_type": "stream",
     "text": [
      "Watching for file changes with StatReloader\n",
      "System check identified some issues:\n",
      "\n",
      "WARNINGS:\n",
      "?: (staticfiles.W004) The directory '/var/www/static/' in the STATICFILES_DIRS setting does not exist.\n",
      "?: (urls.W002) Your URL pattern '/<str:username>/' [name='account'] has a route beginning with a '/'. Remove this slash as it is unnecessary. If this pattern is targeted in an include(), ensure the include() pattern has a trailing '/'.\n",
      "\n",
      "System check identified 2 issues (0 silenced).\n"
     ]
    },
    {
     "name": "stdout",
     "output_type": "stream",
     "text": [
      "Performing system checks...\n",
      "\n",
      "\n",
      "You have 18 unapplied migration(s). Your project may not work properly until you apply the migrations for app(s): admin, auth, contenttypes, sessions.\n",
      "Run 'python manage.py migrate' to apply them.\n",
      "May 20, 2022 - 06:13:45\n",
      "Django version 4.0.4, using settings 'zephyr.settings'\n",
      "Starting development server at http://127.0.0.1:8000/\n",
      "Quit the server with CONTROL-C.\n"
     ]
    },
    {
     "name": "stderr",
     "output_type": "stream",
     "text": [
      "Internal Server Error: /Account/\n",
      "Traceback (most recent call last):\n",
      "  File \"/home/common/dev/venv/lib/python3.8/site-packages/django/core/handlers/exception.py\", line 55, in inner\n",
      "    response = get_response(request)\n",
      "  File \"/home/common/dev/venv/lib/python3.8/site-packages/django/core/handlers/base.py\", line 197, in _get_response\n",
      "    response = wrapped_callback(request, *callback_args, **callback_kwargs)\n",
      "  File \"/home/common/dev/frontend/zephyr/Account/views.py\", line 8, in index\n",
      "    template = loader.get_template('templates/Account.html')\n",
      "  File \"/home/common/dev/venv/lib/python3.8/site-packages/django/template/loader.py\", line 19, in get_template\n",
      "    raise TemplateDoesNotExist(template_name, chain=chain)\n",
      "django.template.exceptions.TemplateDoesNotExist: templates/Account.html\n",
      "[20/May/2022 06:13:48] \"GET /Account/ HTTP/1.1\" 500 69019\n",
      "Not Found: /Account/test\n",
      "[20/May/2022 06:13:52] \"GET /Account/test HTTP/1.1\" 404 2692\n",
      "/home/common/dev/frontend/zephyr/Account/urls.py changed, reloading.\n",
      "Watching for file changes with StatReloader\n"
     ]
    },
    {
     "name": "stdout",
     "output_type": "stream",
     "text": [
      "Performing system checks...\n",
      "\n",
      "\n",
      "You have 18 unapplied migration(s). Your project may not work properly until you apply the migrations for app(s): admin, auth, contenttypes, sessions.\n",
      "Run 'python manage.py migrate' to apply them.\n",
      "May 20, 2022 - 06:14:07\n",
      "Django version 4.0.4, using settings 'zephyr.settings'\n",
      "Starting development server at http://127.0.0.1:8000/\n",
      "Quit the server with CONTROL-C.\n"
     ]
    },
    {
     "name": "stderr",
     "output_type": "stream",
     "text": [
      "System check identified some issues:\n",
      "\n",
      "WARNINGS:\n",
      "?: (staticfiles.W004) The directory '/var/www/static/' in the STATICFILES_DIRS setting does not exist.\n",
      "\n",
      "System check identified 1 issue (0 silenced).\n",
      "[20/May/2022 06:14:08] \"GET /Account/test HTTP/1.1\" 301 0\n",
      "[20/May/2022 06:14:08] \"GET /Account/test/ HTTP/1.1\" 200 17\n",
      "Internal Server Error: /Account/\n",
      "Traceback (most recent call last):\n",
      "  File \"/home/common/dev/venv/lib/python3.8/site-packages/django/core/handlers/exception.py\", line 55, in inner\n",
      "    response = get_response(request)\n",
      "  File \"/home/common/dev/venv/lib/python3.8/site-packages/django/core/handlers/base.py\", line 197, in _get_response\n",
      "    response = wrapped_callback(request, *callback_args, **callback_kwargs)\n",
      "  File \"/home/common/dev/frontend/zephyr/Account/views.py\", line 8, in index\n",
      "    template = loader.get_template('templates/Account.html')\n",
      "  File \"/home/common/dev/venv/lib/python3.8/site-packages/django/template/loader.py\", line 19, in get_template\n",
      "    raise TemplateDoesNotExist(template_name, chain=chain)\n",
      "django.template.exceptions.TemplateDoesNotExist: templates/Account.html\n",
      "[20/May/2022 06:14:12] \"GET /Account/ HTTP/1.1\" 500 68882\n"
     ]
    }
   ],
   "source": [
    "# start\n",
    "startcommand = ['/home/common/dev/venv/bin/python3.8', 'manage.py', 'runserver']\n",
    "sp = subprocess.Popen(startcommand)#, start_new_session=True)\n",
    "out, err = sp.communicate()\n",
    "print(out)\n",
    "print(err)"
   ],
   "metadata": {
    "collapsed": false,
    "pycharm": {
     "name": "#%%\n",
     "is_executing": true
    }
   }
  },
  {
   "cell_type": "code",
   "execution_count": null,
   "outputs": [],
   "source": [],
   "metadata": {
    "collapsed": false,
    "pycharm": {
     "name": "#%%\n"
    }
   }
  }
 ],
 "metadata": {
  "kernelspec": {
   "display_name": "Python 3",
   "language": "python",
   "name": "python3"
  },
  "language_info": {
   "codemirror_mode": {
    "name": "ipython",
    "version": 2
   },
   "file_extension": ".py",
   "mimetype": "text/x-python",
   "name": "python",
   "nbconvert_exporter": "python",
   "pygments_lexer": "ipython2",
   "version": "2.7.6"
  }
 },
 "nbformat": 4,
 "nbformat_minor": 0
}